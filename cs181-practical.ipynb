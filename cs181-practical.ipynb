{
 "cells": [
  {
   "cell_type": "markdown",
   "metadata": {
    "cell_id": "3e7b361b-ea3a-4721-804e-79da451a1f48",
    "deepnote_cell_height": 88.765625,
    "deepnote_cell_type": "markdown"
   },
   "source": [
    "This Jupyter notebook loads the raw amplitude and Mel spectrogram data files as numpy arrays.\n",
    "\n",
    "Download the data files [here](https://console.cloud.google.com/storage/browser/cs181_practical_data).  This notebook assumes that the data files as located in the same directory."
   ]
  },
  {
   "cell_type": "code",
   "execution_count": 23,
   "metadata": {
    "cell_id": "00001-81dca1c2-08d6-4c1a-85cd-6cc13a6acee4",
    "deepnote_cell_height": 278.96875,
    "deepnote_cell_type": "code",
    "deepnote_to_be_reexecuted": false,
    "execution_millis": 3197,
    "execution_start": 1651878769766,
    "source_hash": "3024ffbb",
    "tags": []
   },
   "outputs": [],
   "source": [
    "import numpy as np\n",
    "import matplotlib.pyplot as plt\n",
    "import seaborn as sns\n",
    "from sklearn.preprocessing import StandardScaler\n",
    "from sklearn.decomposition import PCA\n",
    "from sklearn.linear_model import LogisticRegression\n",
    "from sklearn.metrics import accuracy_score\n",
    "from sklearn.metrics import classification_report\n",
    "from sklearn.metrics import confusion_matrix\n",
    "from sklearn.ensemble import RandomForestClassifier\n",
    "from sklearn.neighbors import KNeighborsClassifier\n",
    "import math\n",
    "from sklearn.model_selection import GridSearchCV"
   ]
  },
  {
   "cell_type": "markdown",
   "metadata": {
    "cell_id": "00002-bccb3d6a-a63c-4bff-8802-6854a3d91f03",
    "deepnote_cell_height": 61.96875,
    "deepnote_cell_type": "markdown"
   },
   "source": [
    "### Load raw amplitude data."
   ]
  },
  {
   "cell_type": "code",
   "execution_count": 2,
   "metadata": {
    "cell_id": "00003-03a8463c-9c04-4665-8a99-44abd03a3bfc",
    "deepnote_cell_height": 180.15625,
    "deepnote_cell_type": "code",
    "deepnote_to_be_reexecuted": false,
    "execution_millis": 133,
    "execution_start": 1651883108654,
    "source_hash": "d947438c",
    "tags": []
   },
   "outputs": [],
   "source": [
    "# Load train data\n",
    "X_amp_train = np.load(\"Xtrain_amp.npy\")\n",
    "y_amp_train = np.load(\"ytrain_amp.npy\")"
   ]
  },
  {
   "cell_type": "code",
   "execution_count": 3,
   "metadata": {
    "cell_id": "00004-d54b0985-4dc0-45bf-ada2-6e2e2ea6e74b",
    "deepnote_cell_height": 118.140625,
    "deepnote_cell_type": "code",
    "deepnote_output_heights": [
     21.1875
    ],
    "deepnote_to_be_reexecuted": false,
    "execution_millis": 4,
    "execution_start": 1651878786583,
    "source_hash": "13695a5"
   },
   "outputs": [
    {
     "data": {
      "text/plain": [
       "(5553, 44100)"
      ]
     },
     "execution_count": 3,
     "metadata": {},
     "output_type": "execute_result"
    }
   ],
   "source": [
    "X_amp_train.shape"
   ]
  },
  {
   "cell_type": "code",
   "execution_count": 4,
   "metadata": {
    "cell_id": "a9aaa338d1fb472583d8aabbd9ababed",
    "deepnote_cell_height": 487.125,
    "deepnote_cell_type": "code",
    "deepnote_output_heights": [
     21.1875,
     21.1875,
     249.984375
    ],
    "deepnote_to_be_reexecuted": false,
    "execution_millis": 863,
    "execution_start": 1651878860256,
    "source_hash": "3bb910ae",
    "tags": []
   },
   "outputs": [
    {
     "name": "stderr",
     "output_type": "stream",
     "text": [
      "/Users/thupham/opt/anaconda3/lib/python3.8/site-packages/seaborn/_decorators.py:36: FutureWarning: Pass the following variable as a keyword arg: x. From version 0.12, the only valid positional argument will be `data`, and passing other arguments without an explicit keyword will result in an error or misinterpretation.\n",
      "  warnings.warn(\n"
     ]
    },
    {
     "data": {
      "text/plain": [
       "<AxesSubplot:ylabel='count'>"
      ]
     },
     "execution_count": 4,
     "metadata": {},
     "output_type": "execute_result"
    },
    {
     "data": {
      "image/png": "[encoded data removed]",
      "text/plain": [
       "<Figure size 432x288 with 1 Axes>"
      ]
     },
     "metadata": {
      "needs_background": "light"
     },
     "output_type": "display_data"
    }
   ],
   "source": [
    "y_amp_train\n",
    "sns.countplot(y_amp_train)"
   ]
  },
  {
   "cell_type": "code",
   "execution_count": 5,
   "metadata": {
    "cell_id": "00005-9184c169-5aa6-4620-b54d-ce7b91219ffb",
    "deepnote_cell_height": 116.96875,
    "deepnote_cell_type": "code",
    "deepnote_to_be_reexecuted": false,
    "execution_millis": 3533,
    "execution_start": 1651866432114,
    "source_hash": "dd01b97e",
    "tags": []
   },
   "outputs": [],
   "source": [
    "# Load test data\n",
    "X_amp_test = np.load(\"Xtest_amp.npy\")\n",
    "y_amp_test = np.load(\"ytest_amp.npy\")"
   ]
  },
  {
   "cell_type": "code",
   "execution_count": 6,
   "metadata": {
    "cell_id": "00006-10e7bfce-3edf-4661-8d21-9ef73660c5b9",
    "deepnote_cell_height": 118.140625,
    "deepnote_cell_type": "code",
    "deepnote_output_heights": [
     21.1875
    ],
    "deepnote_to_be_reexecuted": false,
    "execution_millis": 22,
    "execution_start": 1651866435651,
    "source_hash": "aced705"
   },
   "outputs": [
    {
     "data": {
      "text/plain": [
       "(2197, 44100)"
      ]
     },
     "execution_count": 6,
     "metadata": {},
     "output_type": "execute_result"
    }
   ],
   "source": [
    "X_amp_test.shape"
   ]
  },
  {
   "cell_type": "markdown",
   "metadata": {
    "cell_id": "00007-dbb98613-c30d-49f3-8b23-c77d0aab6593",
    "deepnote_cell_height": 61.96875,
    "deepnote_cell_type": "markdown"
   },
   "source": [
    "### Load Mel spectrogram data."
   ]
  },
  {
   "cell_type": "code",
   "execution_count": 7,
   "metadata": {
    "cell_id": "00008-52b74a03-5d28-424f-bd84-5a39fe5d6c82",
    "deepnote_cell_height": 116.96875,
    "deepnote_cell_type": "code",
    "deepnote_to_be_reexecuted": false,
    "execution_millis": 2451,
    "execution_start": 1651866435670,
    "source_hash": "9e59f62a",
    "tags": []
   },
   "outputs": [],
   "source": [
    "# Load train data\n",
    "X_mel_train = np.load(\"Xtrain_mel.npy\")\n",
    "y_mel_train = np.load(\"ytrain_mel.npy\")"
   ]
  },
  {
   "cell_type": "code",
   "execution_count": 8,
   "metadata": {
    "cell_id": "00009-456520a3-3c97-448b-b120-239279d4ebec",
    "deepnote_cell_height": 118.140625,
    "deepnote_cell_type": "code",
    "deepnote_output_heights": [
     21.1875
    ],
    "deepnote_to_be_reexecuted": false,
    "execution_millis": 38,
    "execution_start": 1651866438128,
    "source_hash": "403900f8"
   },
   "outputs": [
    {
     "data": {
      "text/plain": [
       "(5553, 128, 87)"
      ]
     },
     "execution_count": 8,
     "metadata": {},
     "output_type": "execute_result"
    }
   ],
   "source": [
    "X_mel_train.shape"
   ]
  },
  {
   "cell_type": "code",
   "execution_count": 9,
   "metadata": {
    "cell_id": "00010-6b9416df-9d9e-45ef-a4aa-ac3037225579",
    "deepnote_cell_height": 154.140625,
    "deepnote_cell_type": "code",
    "deepnote_output_heights": [
     21.1875
    ],
    "deepnote_to_be_reexecuted": false,
    "execution_millis": 13,
    "execution_start": 1651866438186,
    "source_hash": "d3d51d3c"
   },
   "outputs": [
    {
     "data": {
      "text/plain": [
       "(5553, 11136)"
      ]
     },
     "execution_count": 9,
     "metadata": {},
     "output_type": "execute_result"
    }
   ],
   "source": [
    "# Flatten X_mel_train's spectrogram features\n",
    "X_mel_train_flat = X_mel_train.reshape(X_mel_train.shape[0], -1)\n",
    "X_mel_train_flat.shape"
   ]
  },
  {
   "cell_type": "code",
   "execution_count": 10,
   "metadata": {
    "cell_id": "00011-05fca8f0-9631-4981-a96d-f711c2360538",
    "deepnote_cell_height": 116.96875,
    "deepnote_cell_type": "code",
    "deepnote_to_be_reexecuted": false,
    "execution_millis": 806,
    "execution_start": 1651866438254,
    "source_hash": "6c80b4c2",
    "tags": []
   },
   "outputs": [],
   "source": [
    "# Load test data\n",
    "X_mel_test = np.load(\"Xtest_mel.npy\")\n",
    "y_mel_test = np.load(\"ytest_mel.npy\")"
   ]
  },
  {
   "cell_type": "code",
   "execution_count": 11,
   "metadata": {
    "cell_id": "00012-ebec67cb-f42b-490d-946a-e9e32b7108f9",
    "deepnote_cell_height": 118.140625,
    "deepnote_cell_type": "code",
    "deepnote_output_heights": [
     21.1875
    ],
    "deepnote_to_be_reexecuted": false,
    "execution_millis": 442,
    "execution_start": 1651866439070,
    "source_hash": "b61b9869"
   },
   "outputs": [
    {
     "data": {
      "text/plain": [
       "(2197, 128, 87)"
      ]
     },
     "execution_count": 11,
     "metadata": {},
     "output_type": "execute_result"
    }
   ],
   "source": [
    "X_mel_test.shape"
   ]
  },
  {
   "cell_type": "code",
   "execution_count": 12,
   "metadata": {
    "cell_id": "56bbb54af70d459ea219fd5774a0832b",
    "deepnote_cell_height": 154.140625,
    "deepnote_cell_type": "code",
    "deepnote_output_heights": [
     21.1875
    ],
    "deepnote_to_be_reexecuted": false,
    "execution_millis": 405,
    "execution_start": 1651866439115,
    "source_hash": "9568ca01",
    "tags": []
   },
   "outputs": [
    {
     "data": {
      "text/plain": [
       "(2197, 11136)"
      ]
     },
     "execution_count": 12,
     "metadata": {},
     "output_type": "execute_result"
    }
   ],
   "source": [
    "# Flatten X_mel_test's spectrogram features\n",
    "X_mel_test_flat = X_mel_test.reshape(X_mel_test.shape[0], -1)\n",
    "X_mel_test_flat.shape"
   ]
  },
  {
   "cell_type": "markdown",
   "metadata": {
    "cell_id": "00013-d5fe418c-05c0-4d34-8fd0-a591f6bcd34d",
    "deepnote_cell_height": 159.15625,
    "deepnote_cell_type": "markdown"
   },
   "source": [
    "### Delete an object from local memory.\n",
    "\n",
    "The \"del\" keyword in Python is used to dereference objects from local memory.  You can use it to save memory by getting rid of variables that you don't intend to use anymore.\n",
    "\n",
    "For example, to delete the variable X_mel_train:"
   ]
  },
  {
   "cell_type": "code",
   "execution_count": 13,
   "metadata": {
    "cell_id": "00014-65ae8790-51f8-4845-9a1c-638dac0910d5",
    "deepnote_cell_height": 98.96875,
    "deepnote_cell_type": "code",
    "deepnote_to_be_reexecuted": false,
    "execution_millis": 1,
    "execution_start": 1651866439164,
    "source_hash": "785ac7ea"
   },
   "outputs": [],
   "source": [
    "# del X_mel_train\n",
    "# del X_mel_test"
   ]
  },
  {
   "cell_type": "markdown",
   "metadata": {
    "cell_id": "ed2c36d4a4e34494b17c306295d22eb0",
    "deepnote_cell_height": 288.171875,
    "deepnote_cell_type": "markdown",
    "tags": []
   },
   "source": [
    "### Part A: Feature Engineering and Baseline Models\n",
    "\n",
    "**Your task: Train the following two models.**\n",
    "\n",
    "1. Perform PCA on the raw amplitude features (`Xtrain amp`, `Xtest amp`). Train a logistic regression model on the 500 most significant PCA components. This will be our first baseline model.\n",
    "\n",
    "2. Perform PCA on the Mel spectrogram features (`Xtrain mel`, `Xtest mel`). Train a logistic regression model on the 500 most significant PCA components. This will be our second baseline model.\n",
    "\n",
    "**Discuss which feature representation resulted in higher model performance, and why you hypothesize this feature representation performed better than the other. Also discuss why we might have asked you to perform PCA first and the impact of that choice.**"
   ]
  },
  {
   "cell_type": "code",
   "execution_count": 18,
   "metadata": {
    "cell_id": "b7e20c7796f448f395a847d42eb3d699",
    "deepnote_cell_height": 209.96875,
    "deepnote_cell_type": "code",
    "tags": []
   },
   "outputs": [],
   "source": [
    "# run PCA for everything\n",
    "\n",
    "pca = PCA(n_components=500)\n",
    "X_amp_train_pca = pca.fit_transform(X_amp_train)\n",
    "X_amp_test_pca = pca.transform(X_amp_test)\n",
    "\n",
    "X_mel_train_flat_pca = pca.fit_transform(X_mel_train_flat)\n",
    "X_mel_test_flat_pca = pca.transform(X_mel_test_flat)\n"
   ]
  },
  {
   "cell_type": "code",
   "execution_count": 98,
   "metadata": {},
   "outputs": [
    {
     "name": "stdout",
     "output_type": "stream",
     "text": [
      "0.60182005\n"
     ]
    },
    {
     "data": {
      "image/png": "[encoded data removed]",
      "text/plain": [
       "<Figure size 432x288 with 1 Axes>"
      ]
     },
     "metadata": {
      "needs_background": "light"
     },
     "output_type": "display_data"
    }
   ],
   "source": [
    "my_model = PCA(n_components=500)\n",
    "my_model.fit_transform(X_amp_train)\n",
    "\n",
    "print(my_model.explained_variance_ratio_.cumsum()[499])\n",
    "\n",
    "plt.plot(np.arange(1, 501), my_model.explained_variance_ratio_.cumsum())\n",
    "plt.xlabel(\"Number of Components\")\n",
    "plt.ylabel(\"Proportion of Variance Explained\")\n",
    "plt.title(\"PCA for Amp Feature Representation\")\n",
    "plt.savefig('pca_amp.png')"
   ]
  },
  {
   "cell_type": "code",
   "execution_count": 99,
   "metadata": {},
   "outputs": [
    {
     "name": "stdout",
     "output_type": "stream",
     "text": [
      "0.97920465\n"
     ]
    },
    {
     "data": {
      "image/png": "[encoded data removed]",
      "text/plain": [
       "<Figure size 432x288 with 1 Axes>"
      ]
     },
     "metadata": {
      "needs_background": "light"
     },
     "output_type": "display_data"
    }
   ],
   "source": [
    "my_model = PCA(n_components=500)\n",
    "my_model.fit_transform(X_mel_train_flat)\n",
    "\n",
    "print(my_model.explained_variance_ratio_.cumsum()[499])\n",
    "\n",
    "plt.plot(np.arange(1, 501), my_model.explained_variance_ratio_.cumsum())\n",
    "plt.xlabel(\"Number of Components\")\n",
    "plt.ylabel(\"Proportion of Variance Explained\")\n",
    "plt.title(\"PCA for Mel Feature Representation\")\n",
    "plt.savefig('pca_mel.png')"
   ]
  },
  {
   "cell_type": "code",
   "execution_count": 19,
   "metadata": {
    "cell_id": "00015-75a0335a-5336-4009-9b02-bef9c0bc8c85",
    "deepnote_cell_height": 1100.90625,
    "deepnote_cell_type": "code",
    "deepnote_to_be_reexecuted": false,
    "execution_millis": 596560,
    "execution_start": 1651866439361,
    "source_hash": "1e1d9d9b",
    "tags": []
   },
   "outputs": [
    {
     "name": "stdout",
     "output_type": "stream",
     "text": [
      "[TRAIN ACCURACY] Mean: 0.41491085899513774; Standard Deviation: 0.0\n",
      "[TEST ACCURACY] Mean: 0.20163859808830223; Standard Deviation: 0.0\n",
      "[TRAIN PER-CLASS ACCURACY] Mean: [0.41857143 0.35025381 0.53448276 0.3040153  0.34266886 0.4479889\n",
      " 0.61445783 0.4224924  0.41167665 0.39428571]; Standard Deviation: [0. 0. 0. 0. 0. 0. 0. 0. 0. 0.]\n",
      "[TEST PER-CLASS ACCURACY] Mean: [0.23333333 0.02564103 0.59866221 0.07860262 0.10606061 0.16666667\n",
      " 0.06666667 0.11016949 0.09745763 0.17333333]; Standard Deviation: [0. 0. 0. 0. 0. 0. 0. 0. 0. 0.]\n"
     ]
    }
   ],
   "source": [
    "# First Baseline Model\n",
    "\n",
    "train_accuracies = []\n",
    "test_accuracies = []\n",
    "train_per_class_accuracies = []\n",
    "test_per_class_accuracies = []\n",
    "\n",
    "# create our PCA object that will calculate the first 500 principal components\n",
    "pca = PCA(n_components=500)\n",
    "\n",
    "# fit and transform our training data\n",
    "X_amp_train_pca = pca.fit_transform(X_amp_train)\n",
    "\n",
    "# train a logistic regression on the PCA transformed training data\n",
    "# max_iter=1000 to get rid of covergence warnings\n",
    "lr = LogisticRegression(max_iter=1000)\n",
    "lr.fit(X_amp_train_pca, y_amp_train)\n",
    "\n",
    "# make our train predictions\n",
    "preds_amp_train_lr = lr.predict(X_amp_train_pca)\n",
    "\n",
    "# transform our testing data\n",
    "X_amp_test_pca = pca.transform(X_amp_test)\n",
    "\n",
    "# make our test predictions\n",
    "preds_amp_test_lr = lr.predict(X_amp_test_pca)\n",
    "\n",
    "# calculate train and test accuracy\n",
    "train_accuracies.append(accuracy_score(y_amp_train, preds_amp_train_lr))\n",
    "test_accuracies.append(accuracy_score(y_amp_test, preds_amp_test_lr))\n",
    "\n",
    "# confusion matrix\n",
    "train_cfm = confusion_matrix(y_amp_train, preds_amp_train_lr)\n",
    "test_cfm = confusion_matrix(y_amp_test, preds_amp_test_lr)\n",
    "\n",
    "# calculate per-class classification accuracy (https://stackoverflow.com/questions/39770376/scikit-learn-get-accuracy-scores-for-each-class)\n",
    "train_per_class_accuracies.append(train_cfm.diagonal() / train_cfm.sum(axis=1))\n",
    "test_per_class_accuracies.append(test_cfm.diagonal() / test_cfm.sum(axis=1))\n",
    "\n",
    "print(f\"[TRAIN ACCURACY] {np.mean(train_accuracies)}\")\n",
    "print(f\"[TEST ACCURACY] Mean: {np.mean(test_accuracies)}\")\n",
    "print(f\"[TRAIN PER-CLASS ACCURACY] Mean: {np.mean(train_per_class_accuracies, axis=0)}\")\n",
    "print(f\"[TEST PER-CLASS ACCURACY] Mean: {np.mean(test_per_class_accuracies, axis=0)}\")"
   ]
  },
  {
   "cell_type": "code",
   "execution_count": 20,
   "metadata": {
    "cell_id": "fd1ffd74560a433c8f58da730f84a952",
    "deepnote_cell_height": 848.90625,
    "deepnote_cell_type": "code",
    "deepnote_to_be_reexecuted": false,
    "execution_millis": 3199297,
    "execution_start": 1651867035915,
    "source_hash": "83f7d05f",
    "tags": []
   },
   "outputs": [
    {
     "name": "stdout",
     "output_type": "stream",
     "text": [
      "[TRAIN ACCURACY] Mean: 0.5258418872681433; Standard Deviation: 0.0\n",
      "[TEST ACCURACY] Mean: 0.3304506144742831; Standard Deviation: 0.0\n",
      "[TRAIN PER-CLASS ACCURACY] Mean: [0.51714286 0.45685279 0.81896552 0.4665392  0.41021417 0.45769764\n",
      " 0.75903614 0.556231   0.49401198 0.45142857]; Standard Deviation: [0. 0. 0. 0. 0. 0. 0. 0. 0. 0.]\n",
      "[TEST PER-CLASS ACCURACY] Mean: [0.22333333 0.38461538 0.82943144 0.20524017 0.31060606 0.28030303\n",
      " 0.33333333 0.1059322  0.43220339 0.18666667]; Standard Deviation: [0. 0. 0. 0. 0. 0. 0. 0. 0. 0.]\n"
     ]
    }
   ],
   "source": [
    "# Second Baseline Model\n",
    "\n",
    "train_accuracies = []\n",
    "test_accuracies = []\n",
    "train_per_class_accuracies = []\n",
    "test_per_class_accuracies = []\n",
    "\n",
    "# train a logistic regression on the PCA transformed training data\n",
    "# solver='sag' and max_iter=10000 to get rid of covergence warnings\n",
    "lr_pca = LogisticRegression(solver='sag', max_iter=10000)\n",
    "lr_pca.fit(X_mel_train_flat_pca, y_mel_train)\n",
    "\n",
    "# make our train predictions\n",
    "preds_mel_train_lr_pca = lr_pca.predict(X_mel_train_flat_pca)\n",
    "\n",
    "# make our test predictions\n",
    "preds_mel_test_lr_pca = lr_pca.predict(X_mel_test_flat_pca)\n",
    "\n",
    "# calculate train and test accuracy\n",
    "train_accuracies.append(accuracy_score(y_mel_train, preds_mel_train_lr_pca))\n",
    "test_accuracies.append(accuracy_score(y_mel_test, preds_mel_test_lr_pca))\n",
    "\n",
    "# confusion matrix\n",
    "train_cfm = confusion_matrix(y_mel_train, preds_mel_train_lr_pca)\n",
    "test_cfm = confusion_matrix(y_mel_test, preds_mel_test_lr_pca)\n",
    "\n",
    "# get per-class classification accuracy (https://stackoverflow.com/questions/39770376/scikit-learn-get-accuracy-scores-for-each-class)\n",
    "train_per_class_accuracies.append(train_cfm.diagonal() / train_cfm.sum(axis=1))\n",
    "test_per_class_accuracies.append(test_cfm.diagonal() / test_cfm.sum(axis=1))\n",
    "\n",
    "print(f\"[TRAIN ACCURACY] Mean: {np.mean(train_accuracies)}\")\n",
    "print(f\"[TEST ACCURACY] Mean: {np.mean(test_accuracies)}\")\n",
    "print(f\"[TRAIN PER-CLASS ACCURACY] Mean: {np.mean(train_per_class_accuracies, axis=0)}\")\n",
    "print(f\"[TEST PER-CLASS ACCURACY] Mean: {np.mean(test_per_class_accuracies, axis=0)}\")"
   ]
  },
  {
   "cell_type": "markdown",
   "metadata": {
    "cell_id": "e3a49212a65147e0b9911e7159a141f5",
    "deepnote_cell_height": 276.765625,
    "deepnote_cell_type": "markdown",
    "tags": []
   },
   "source": [
    "### Part B: More Modeling\n",
    "\n",
    "Now, you will experiment with more expressive nonlinear model classes to maximize accuracy on the audio classification task. Examples of nonlinear models include random forests, KNN, and neural networks.\n",
    "\n",
    "**B1: First Step**\n",
    "\n",
    "First, we will be looking at simple models that are slightly more complicated than a linear\n",
    "model.\n",
    "\n",
    "**Your task: Train at least one nonlinear model on a feature representation of your choice. For model classes with hyperparameters, select a hyperparameter value you intuitively think is appropriate. Compare your results to the logistic regression models in Part A and discuss what your results imply about the task.**"
   ]
  },
  {
   "cell_type": "code",
   "execution_count": 72,
   "metadata": {
    "cell_id": "b90384afc62a4a7a8f44dbec29771e14",
    "deepnote_cell_height": 899.265625,
    "deepnote_cell_type": "code",
    "deepnote_to_be_reexecuted": false,
    "execution_millis": 821781,
    "execution_start": 1651870235232,
    "source_hash": "75dc64d2",
    "tags": []
   },
   "outputs": [
    {
     "name": "stdout",
     "output_type": "stream",
     "text": [
      "[TRAIN ACCURACY] Mean: 0.5651719791103907; Standard Deviation: 0.0022043787139347437\n",
      "[TEST ACCURACY] Mean: 0.24396904870277653; Standard Deviation: 0.0016028053583667763\n",
      "[TRAIN PER-CLASS ACCURACY] Mean: [0.64057143 0.13299492 0.80287356 0.13652008 0.49258649 0.65991678\n",
      " 0.54698795 0.7893617  0.36946108 0.63885714]; Standard Deviation: [0.01180107 0.00873333 0.01200035 0.00354632 0.00954951 0.00805872\n",
      " 0.01228679 0.00354465 0.00495597 0.01350435]\n",
      "[TEST PER-CLASS ACCURACY] Mean: [0.268      0.         0.83344482 0.         0.03484848 0.4219697\n",
      " 0.02       0.21016949 0.00254237 0.11666667]; Standard Deviation: [0.0142361  0.         0.01086828 0.         0.00441739 0.01753915\n",
      " 0.01632993 0.01216331 0.00207584 0.0101105 ]\n"
     ]
    }
   ],
   "source": [
    "# amp Random Forest\n",
    "\n",
    "train_accuracies = []\n",
    "test_accuracies = []\n",
    "train_per_class_accuracies = []\n",
    "test_per_class_accuracies = []\n",
    "\n",
    "for i in range(5):\n",
    "\n",
    "    # set seed\n",
    "    np.random.seed(100 + 50 * i)\n",
    "\n",
    "    # train a random forest on the PCA transformed training data\n",
    "    model = RandomForestClassifier(max_depth=math.log(X_mel_train.shape[0]), n_jobs=-1)\n",
    "    model.fit(X_amp_train_pca, y_amp_train)\n",
    "\n",
    "    # make our train predictions\n",
    "    preds_amp_train_rf = model.predict(X_amp_train_pca)\n",
    "\n",
    "    # make our test predictions\n",
    "    preds_amp_test_rf = model.predict(X_amp_test_pca)\n",
    "\n",
    "    # calculate train and test accuracy\n",
    "    train_accuracies.append(accuracy_score(y_amp_train, preds_amp_train_rf))\n",
    "    test_accuracies.append(accuracy_score(y_amp_test, preds_amp_test_rf))\n",
    "\n",
    "    # confusion matrix\n",
    "    train_cfm = confusion_matrix(y_amp_train, preds_amp_train_rf)\n",
    "    test_cfm = confusion_matrix(y_amp_test, preds_amp_test_rf)\n",
    "\n",
    "    # get per-class classification accuracy (https://stackoverflow.com/questions/39770376/scikit-learn-get-accuracy-scores-for-each-class)\n",
    "    train_per_class_accuracies.append(train_cfm.diagonal() / train_cfm.sum(axis=1))\n",
    "    test_per_class_accuracies.append(test_cfm.diagonal() / test_cfm.sum(axis=1))\n",
    "\n",
    "print(f\"[TRAIN ACCURACY] Mean: {np.mean(train_accuracies)}\")\n",
    "print(f\"[TEST ACCURACY] Mean: {np.mean(test_accuracies)}\")\n",
    "print(f\"[TRAIN PER-CLASS ACCURACY] Mean: {np.mean(train_per_class_accuracies, axis=0)}\")\n",
    "print(f\"[TEST PER-CLASS ACCURACY] Mean: {np.mean(test_per_class_accuracies, axis=0)}\")"
   ]
  },
  {
   "cell_type": "code",
   "execution_count": 73,
   "metadata": {
    "cell_id": "c40ecc21fcaf40a5aa08066555dc6728",
    "deepnote_cell_height": 953.265625,
    "deepnote_cell_type": "code",
    "deepnote_to_be_reexecuted": false,
    "execution_millis": 538513,
    "execution_start": 1651871056538,
    "source_hash": "f34cd16a",
    "tags": []
   },
   "outputs": [
    {
     "name": "stdout",
     "output_type": "stream",
     "text": [
      "[TRAIN ACCURACY] Mean: 0.7724833423374753; Standard Deviation: 0.003926631851872855\n",
      "[TEST ACCURACY] Mean: 0.3680473372781065; Standard Deviation: 0.005289336020513046\n",
      "[TRAIN PER-CLASS ACCURACY] Mean: [0.87171429 0.40101523 0.80488506 0.64512428 0.70510708 0.85270458\n",
      " 0.75180723 0.91519757 0.74520958 0.71085714]; Standard Deviation: [0.0069046  0.00556064 0.01057378 0.01163681 0.01026189 0.0077173\n",
      " 0.00963855 0.00364742 0.01289165 0.00673704]\n",
      "[TEST PER-CLASS ACCURACY] Mean: [0.144      0.06153846 0.60401338 0.2        0.26515152 0.38181818\n",
      " 0.07333333 0.44576271 0.61610169 0.37666667]; Standard Deviation: [0.0159722  0.02051282 0.01396697 0.01840289 0.00987758 0.01055181\n",
      " 0.01333333 0.01805701 0.0043212  0.0147573 ]\n"
     ]
    }
   ],
   "source": [
    "# mel Random Forest\n",
    "\n",
    "train_accuracies = []\n",
    "test_accuracies = []\n",
    "train_per_class_accuracies = []\n",
    "test_per_class_accuracies = []\n",
    "\n",
    "for i in range(5):\n",
    "\n",
    "    # set seed\n",
    "    np.random.seed(100 + 50 * i)\n",
    "\n",
    "    # train a random forest on the PCA transformed training data\n",
    "    model = RandomForestClassifier(max_depth=math.log(X_mel_train.shape[0]), n_jobs=-1)\n",
    "    model.fit(X_mel_train_flat_pca, y_mel_train)\n",
    "\n",
    "    # make our train predictions\n",
    "    preds_mel_train_rf = model.predict(X_mel_train_flat_pca)\n",
    "\n",
    "    # make our test predictions\n",
    "    preds_mel_test_rf = model.predict(X_mel_test_flat_pca)\n",
    "\n",
    "    # calculate train and test accuracy\n",
    "    train_accuracies.append(accuracy_score(y_mel_train, preds_mel_train_rf))\n",
    "    test_accuracies.append(accuracy_score(y_mel_test, preds_mel_test_rf))\n",
    "\n",
    "    # confusion matrix\n",
    "    train_cfm = confusion_matrix(y_mel_train, preds_mel_train_rf)\n",
    "    test_cfm = confusion_matrix(y_mel_test, preds_mel_test_rf)\n",
    "\n",
    "    # get per-class classification accuracy (https://stackoverflow.com/questions/39770376/scikit-learn-get-accuracy-scores-for-each-class)\n",
    "    train_per_class_accuracies.append(train_cfm.diagonal() / train_cfm.sum(axis=1))\n",
    "    test_per_class_accuracies.append(test_cfm.diagonal() / test_cfm.sum(axis=1))\n",
    "\n",
    "print(f\"[TRAIN ACCURACY] Mean: {np.mean(train_accuracies)}\")\n",
    "print(f\"[TEST ACCURACY] Mean: {np.mean(test_accuracies)}\")\n",
    "print(f\"[TRAIN PER-CLASS ACCURACY] Mean: {np.mean(train_per_class_accuracies, axis=0)}\")\n",
    "print(f\"[TEST PER-CLASS ACCURACY] Mean: {np.mean(test_per_class_accuracies, axis=0)}\")"
   ]
  },
  {
   "cell_type": "code",
   "execution_count": 29,
   "metadata": {
    "cell_id": "4bf38b3958ea4a3e9f6dd80514c15859",
    "deepnote_cell_height": 812.90625,
    "deepnote_cell_type": "code",
    "deepnote_to_be_reexecuted": false,
    "execution_millis": 611465,
    "execution_start": 1651871595049,
    "source_hash": "94a876b3",
    "tags": []
   },
   "outputs": [
    {
     "name": "stdout",
     "output_type": "stream",
     "text": [
      "[TRAIN ACCURACY] Mean: 0.3056005762650819; Standard Deviation: 0.0\n",
      "[TEST ACCURACY] Mean: 0.17159763313609466; Standard Deviation: 0.0\n",
      "[TRAIN PER-CLASS ACCURACY] Mean: [0.63857143 0.0964467  0.2816092  0.34416826 0.13014827 0.2926491\n",
      " 0.12048193 0.14741641 0.5508982  0.12857143]; Standard Deviation: [0. 0. 0. 0. 0. 0. 0. 0. 0. 0.]\n",
      "[TEST PER-CLASS ACCURACY] Mean: [0.4        0.         0.10367893 0.13537118 0.03787879 0.10984848\n",
      " 0.03333333 0.         0.58898305 0.05333333]; Standard Deviation: [0. 0. 0. 0. 0. 0. 0. 0. 0. 0.]\n"
     ]
    }
   ],
   "source": [
    "# amp KNN\n",
    "\n",
    "model = KNeighborsClassifier(n_neighbors=10)\n",
    "model.fit(X_amp_train_pca, y_amp_train)\n",
    "\n",
    "# make our train predictions\n",
    "preds_amp_train_knn = model.predict(X_amp_train_pca)\n",
    "\n",
    "# make our test predictions\n",
    "preds_amp_test_knn = model.predict(X_amp_test_pca)\n",
    "\n",
    "# calculate train and test accuracy\n",
    "train_accuracy = accuracy_score(y_amp_train, preds_amp_train_knn)\n",
    "test_accuracy = accuracy_score(y_amp_test, preds_amp_test_knn)\n",
    "\n",
    "# confusion matrix\n",
    "train_cfm = confusion_matrix(y_amp_train, preds_amp_train_knn)\n",
    "test_cfm = confusion_matrix(y_amp_test, preds_amp_test_knn)\n",
    "\n",
    "# get per-class classification accuracy (https://stackoverflow.com/questions/39770376/scikit-learn-get-accuracy-scores-for-each-class)\n",
    "train_per_class_accuracies = train_cfm.diagonal() / train_cfm.sum(axis=1)\n",
    "test_per_class_accuracies = test_cfm.diagonal() / test_cfm.sum(axis=1)\n",
    "\n",
    "print(f\"[TRAIN ACCURACY] Mean: {train_accuracy}\")\n",
    "print(f\"[TEST ACCURACY] Mean: {test_accuracy}\")\n",
    "print(f\"[TRAIN PER-CLASS ACCURACY] {train_per_class_accuracies}\")\n",
    "print(f\"[TEST PER-CLASS ACCURACY] {test_per_class_accuracies}\")"
   ]
  },
  {
   "cell_type": "code",
   "execution_count": 30,
   "metadata": {
    "cell_id": "cefe98b2d65944119c4abc3305a74cf3",
    "deepnote_cell_height": 830.90625,
    "deepnote_cell_type": "code",
    "deepnote_to_be_reexecuted": false,
    "execution_millis": 163291,
    "execution_start": 1651872206513,
    "source_hash": "6a085166",
    "tags": []
   },
   "outputs": [
    {
     "name": "stdout",
     "output_type": "stream",
     "text": [
      "[TRAIN ACCURACY] Mean: 0.5804069872141185; Standard Deviation: 0.0\n",
      "[TEST ACCURACY] Mean: 0.2598998634501593; Standard Deviation: 0.0\n",
      "[TRAIN PER-CLASS ACCURACY] Mean: [0.81285714 0.50253807 0.43821839 0.34799235 0.6276771  0.86130374\n",
      " 0.6626506  0.88601824 0.45958084 0.17285714]; Standard Deviation: [0. 0. 0. 0. 0. 0. 0. 0. 0. 0.]\n",
      "[TEST PER-CLASS ACCURACY] Mean: [0.10333333 0.33333333 0.28093645 0.12227074 0.29924242 0.33333333\n",
      " 0.33333333 0.67372881 0.27542373 0.04666667]; Standard Deviation: [0. 0. 0. 0. 0. 0. 0. 0. 0. 0.]\n"
     ]
    }
   ],
   "source": [
    "# mel KNN\n",
    "\n",
    "# train a KNN model on the PCA transformed training data\n",
    "model = KNeighborsClassifier(n_neighbors=10)\n",
    "model.fit(X_mel_train_flat_pca, y_mel_train)\n",
    "\n",
    "# make our train predictions\n",
    "preds_mel_train_knn = model.predict(X_mel_train_flat_pca)\n",
    "\n",
    "# make our test predictions\n",
    "preds_mel_test_knn = model.predict(X_mel_test_flat_pca)\n",
    "\n",
    "# calculate train and test accuracy\n",
    "train_accuracy = accuracy_score(y_mel_train, preds_mel_train_knn)\n",
    "test_accuracy = accuracy_score(y_mel_test, preds_mel_test_knn)\n",
    "\n",
    "# confusion matrix\n",
    "train_cfm = confusion_matrix(y_mel_train, preds_mel_train_knn)\n",
    "test_cfm = confusion_matrix(y_mel_test, preds_mel_test_knn)\n",
    "\n",
    "# get per-class classification accuracy (https://stackoverflow.com/questions/39770376/scikit-learn-get-accuracy-scores-for-each-class)\n",
    "train_per_class_accuracies = train_cfm.diagonal() / train_cfm.sum(axis=1)\n",
    "test_per_class_accuracies = test_cfm.diagonal() / test_cfm.sum(axis=1)\n",
    "\n",
    "print(f\"[TRAIN ACCURACY] {train_accuracy}\")\n",
    "print(f\"[TEST ACCURACY] {test_accuracy}\")\n",
    "print(f\"[TRAIN PER-CLASS ACCURACY] Mean: {train_per_class_accuracies}\")\n",
    "print(f\"[TEST PER-CLASS ACCURACY] Mean: {test_per_class_accuracies}\")"
   ]
  },
  {
   "cell_type": "markdown",
   "metadata": {
    "cell_id": "2421fea59bb94d138de8c37e432e35bc",
    "deepnote_cell_height": 399.578125,
    "deepnote_cell_type": "markdown",
    "tags": []
   },
   "source": [
    "**B2: More Complicated Models–Hyperparameter Tuning and Validation**\n",
    "\n",
    "In this section, you will explore hyperparameter tuning. Model hyperparameters such as network architecture or random forest maximum tree depth determine the expressivity of the model class. Training hyperparameters such as learning rate, weight decay, or regularization coefficients influence optimization and can encourage desirable properties (such as sparsity) in the final learned models.\n",
    "\n",
    "Popular hyperparameter tuning techniques include random search, where you train a set of models with hyperparameters chosen uniformly at random from a set of possible values, and grid search, where all possible parameter values are considered exhaustively.\n",
    "\n",
    "**Your task: Perform a hyperparameter search to maximize predictive accuracy for two model classes of your choice. You can choose which hyperparameters you search over (feel free to search over multiple simultaneously if you’d like!), but you must search over at least 5 possible values for at least 1 hyperparameter. Explore the changes in performance as you choose different hyperparameter values. In your writeup, discuss your validation strategy and your conclusions.**\n",
    "\n",
    "Note: Choose how to present your results of your hyperparameter search in a way that best reflects how to communicate your conclusions."
   ]
  },
  {
   "cell_type": "code",
   "execution_count": 83,
   "metadata": {
    "allow_embed": "code_output",
    "cell_id": "514c6fcfe88a4006a1cf99f3a839fa6b",
    "deepnote_cell_height": 566.96875,
    "deepnote_cell_type": "code",
    "deepnote_to_be_reexecuted": false,
    "execution_millis": 0,
    "execution_start": 1651872369802,
    "source_hash": "a6c62d95",
    "tags": []
   },
   "outputs": [],
   "source": [
    "# relevant hyperparameters:\n",
    "\n",
    "# n_estimators = number of trees in the foreset\n",
    "# max_features = max number of features considered for splitting a node\n",
    "# max_depth = max number of levels in each decision tree\n",
    "# min_samples_split = min number of data points placed in a node before the node is\n",
    "# split: Here we will vary the parameter from 10% to 100% of the samples (from article)\n",
    "# min_samples_leaf = min number of data points allowed in a leaf node\n",
    "# bootstrap = method for sampling data points (with or without replacement)\n",
    "\n",
    "max_depth_search = [3, 8, 13, 18, None]\n",
    "min_samples_split_search = [2, 3, 4, 5, 6]\n",
    "n_estimators_search = [50, 100, 150, 200, 250]\n",
    "\n",
    "grid_search = {'n_estimators': n_estimators_search,\n",
    "                'max_depth': max_depth_search,\n",
    "                'min_samples_split': min_samples_split_search}"
   ]
  },
  {
   "cell_type": "code",
   "execution_count": 86,
   "metadata": {
    "cell_id": "5c32a144d6564725ae3379cb0a2e1c4e",
    "deepnote_cell_height": 558.140625,
    "deepnote_cell_type": "code",
    "deepnote_to_be_reexecuted": false,
    "execution_millis": 1035153,
    "execution_start": 1651872369806,
    "source_hash": "3cf662b1",
    "tags": []
   },
   "outputs": [
    {
     "name": "stdout",
     "output_type": "stream",
     "text": [
      "Fitting 5 folds for each of 125 candidates, totalling 625 fits\n",
      "{'max_depth': None, 'min_samples_split': 3, 'n_estimators': 250}\n",
      "[TRAIN ACCURACY] Mean: 1.0; Standard Deviation: 0.0\n",
      "[TEST ACCURACY] Mean: 0.270368684569868; Standard Deviation: 0.0\n",
      "[TRAIN PER-CLASS ACCURACY] Mean: [1. 1. 1. 1. 1. 1. 1. 1. 1. 1.]; Standard Deviation: [0. 0. 0. 0. 0. 0. 0. 0. 0. 0.]\n",
      "[TEST PER-CLASS ACCURACY] Mean: [0.25666667 0.         0.72575251 0.01310044 0.10984848 0.48106061\n",
      " 0.03333333 0.21186441 0.18644068 0.15333333]; Standard Deviation: [0.00000000e+00 0.00000000e+00 0.00000000e+00 0.00000000e+00\n",
      " 1.38777878e-17 0.00000000e+00 0.00000000e+00 2.77555756e-17\n",
      " 0.00000000e+00 0.00000000e+00]\n"
     ]
    }
   ],
   "source": [
    "# instantiate our gridsearch estimator - cv=None defaults to the 5-fold cross validation\n",
    "RFC = RandomForestClassifier(random_state=181)\n",
    "RFC_CV = GridSearchCV(estimator=RFC, param_grid=grid_search, n_jobs=-1, cv=None, verbose=1)\n",
    "\n",
    "RFC_CV.fit(X_amp_train_pca, y_amp_train)\n",
    "\n",
    "# select our best model from the gridsearch\n",
    "best_params = RFC_CV.best_params_\n",
    "print(best_params)\n",
    "\n",
    "train_accuracies = []\n",
    "test_accuracies = []\n",
    "train_per_class_accuracies = []\n",
    "test_per_class_accuracies = []\n",
    "\n",
    "for i in range(5):\n",
    "    # set seed\n",
    "    np.random.seed(100 + 50 * i)\n",
    "    RFC_best = RandomForestClassifier(n_estimators=best_params['n_estimators'], min_samples_split=best_params['min_samples_split'], max_depth=best_params['max_depth'],\n",
    "                                     random_state = 181)\n",
    "\n",
    "    # fit it on our entire train data\n",
    "    RFC_best.fit(X_amp_train_pca, y_amp_train)\n",
    "    \n",
    "    preds_best_amp_train_rf = RFC_best.predict(X_amp_train_pca)\n",
    "    preds_best_amp_test_rf = RFC_best.predict(X_amp_test_pca)\n",
    "    \n",
    "    # train and test accuracy\n",
    "    train_accuracies.append(accuracy_score(y_amp_train, preds_best_amp_train_rf))\n",
    "    test_accuracies.append(accuracy_score(y_amp_test, preds_best_amp_test_rf))\n",
    "\n",
    "    # confusion matrix\n",
    "    train_cfm = confusion_matrix(y_amp_train, preds_best_amp_train_rf)\n",
    "    test_cfm = confusion_matrix(y_mel_test, preds_best_amp_test_rf)\n",
    "\n",
    "    # get per-class classification accuracy (https://stackoverflow.com/questions/39770376/scikit-learn-get-accuracy-scores-for-each-class)\n",
    "    train_per_class_accuracies.append(train_cfm.diagonal() / train_cfm.sum(axis=1))\n",
    "    test_per_class_accuracies.append(test_cfm.diagonal() / test_cfm.sum(axis=1))\n",
    "\n",
    "\n",
    "print(f\"[TRAIN ACCURACY] Mean: {np.mean(train_accuracies)}\")\n",
    "print(f\"[TEST ACCURACY] Mean: {np.mean(test_accuracies)}\")\n",
    "print(f\"[TRAIN PER-CLASS ACCURACY] Mean: {np.mean(train_per_class_accuracies, axis=0)}\")\n",
    "print(f\"[TEST PER-CLASS ACCURACY] Mean: {np.mean(test_per_class_accuracies, axis=0)}\")"
   ]
  },
  {
   "cell_type": "code",
   "execution_count": 87,
   "metadata": {},
   "outputs": [
    {
     "name": "stdout",
     "output_type": "stream",
     "text": [
      "Fitting 5 folds for each of 125 candidates, totalling 625 fits\n",
      "{'max_depth': 18, 'min_samples_split': 2, 'n_estimators': 250}\n",
      "[TRAIN ACCURACY] Mean: 1.0; Standard Deviation: 0.0\n",
      "[TEST ACCURACY] Mean: 0.40873918980427854; Standard Deviation: 0.0\n",
      "[TRAIN PER-CLASS ACCURACY] Mean: [1. 1. 1. 1. 1. 1. 1. 1. 1. 1.]; Standard Deviation: [0. 0. 0. 0. 0. 0. 0. 0. 0. 0.]\n",
      "[TEST PER-CLASS ACCURACY] Mean: [0.19333333 0.17948718 0.59531773 0.23580786 0.31060606 0.39393939\n",
      " 0.06666667 0.53389831 0.66525424 0.43333333]; Standard Deviation: [0.00000000e+00 0.00000000e+00 0.00000000e+00 2.77555756e-17\n",
      " 0.00000000e+00 0.00000000e+00 0.00000000e+00 0.00000000e+00\n",
      " 0.00000000e+00 5.55111512e-17]\n"
     ]
    }
   ],
   "source": [
    "RFC = RandomForestClassifier(random_state=181)\n",
    "RFC_CV = GridSearchCV(estimator=RFC, param_grid=grid_search, n_jobs=-1, cv=None, verbose=1)\n",
    "\n",
    "RFC_CV.fit(X_mel_train_flat_pca, y_mel_train)\n",
    "\n",
    "# select our best model from the gridsearch\n",
    "best_params = RFC_CV.best_params_\n",
    "print(best_params)\n",
    "train_accuracies = []\n",
    "test_accuracies = []\n",
    "train_per_class_accuracies = []\n",
    "test_per_class_accuracies = []\n",
    "\n",
    "for i in range(5):\n",
    "    # set seed\n",
    "    np.random.seed(100 + 50 * i)\n",
    "    RFC_best = RandomForestClassifier(n_estimators=best_params['n_estimators'], min_samples_split=best_params['min_samples_split'], max_depth=best_params['max_depth'],\n",
    "                                     random_state = 181)\n",
    "\n",
    "    # fit it on our entire train data\n",
    "    RFC_best.fit(X_mel_train_flat_pca, y_mel_train)\n",
    "    \n",
    "    preds_best_mel_train_rf = RFC_best.predict(X_mel_train_flat_pca)\n",
    "    preds_best_mel_test_rf = RFC_best.predict(X_mel_test_flat_pca)\n",
    "    \n",
    "    # train and test accuracy\n",
    "    train_accuracies.append(accuracy_score(y_mel_train, preds_best_mel_train_rf))\n",
    "    test_accuracies.append(accuracy_score(y_mel_test, preds_best_mel_test_rf))\n",
    "\n",
    "    # confusion matrix\n",
    "    train_cfm = confusion_matrix(y_mel_train, preds_best_mel_train_rf)\n",
    "    test_cfm = confusion_matrix(y_mel_test, preds_best_mel_test_rf)\n",
    "\n",
    "    # get per-class classification accuracy (https://stackoverflow.com/questions/39770376/scikit-learn-get-accuracy-scores-for-each-class)\n",
    "    train_per_class_accuracies.append(train_cfm.diagonal() / train_cfm.sum(axis=1))\n",
    "    test_per_class_accuracies.append(test_cfm.diagonal() / test_cfm.sum(axis=1))\n",
    "\n",
    "\n",
    "print(f\"[TRAIN ACCURACY] Mean: {np.mean(train_accuracies)}\")\n",
    "print(f\"[TEST ACCURACY] Mean: {np.mean(test_accuracies)}\")\n",
    "print(f\"[TRAIN PER-CLASS ACCURACY] Mean: {np.mean(train_per_class_accuracies, axis=0)}\")\n",
    "print(f\"[TEST PER-CLASS ACCURACY] Mean: {np.mean(test_per_class_accuracies, axis=0)}\")"
   ]
  },
  {
   "cell_type": "code",
   "execution_count": 69,
   "metadata": {
    "cell_id": "252a22a74b384ec5b3e80c0f233ba9ec",
    "deepnote_cell_height": 864.15625,
    "deepnote_cell_type": "code",
    "deepnote_to_be_reexecuted": true,
    "execution_millis": 171,
    "execution_start": 1649711410748,
    "source_hash": "6b3a9f3e",
    "tags": []
   },
   "outputs": [
    {
     "name": "stdout",
     "output_type": "stream",
     "text": [
      "Fitting 5 folds for each of 14 candidates, totalling 70 fits\n",
      "{'n_neighbors': 1}\n",
      "Train Accuracy: 1.0\n",
      "Per-Class Train Accuracy [1. 1. 1. 1. 1. 1. 1. 1. 1. 1.]\n",
      "Test Accuracy: 0.19754210286754664\n",
      "Per-Class Test Accuracy [0.13666667 0.         0.2006689  0.21834061 0.00757576 0.34469697\n",
      " 0.06666667 0.00423729 0.71186441 0.06333333]\n"
     ]
    }
   ],
   "source": [
    "# amp KNN Grid Search\n",
    "\n",
    "# these are the settings that we will tune: 'n_neighbors'\n",
    "param_grid = {'n_neighbors': np.arange(1, 28, 2),}\n",
    "\n",
    "# instantiate our template model\n",
    "KNN = KNeighborsClassifier()\n",
    "\n",
    "# instantiate our gridsearch estimator - cv=None defaults to the 5-fold cross validation\n",
    "KNN_CV = GridSearchCV(estimator=KNN, param_grid=param_grid, n_jobs=-1, cv=None, verbose=1)\n",
    "KNN_CV.fit(X_amp_train_pca, y_amp_train)\n",
    "\n",
    "# print the best results\n",
    "print(KNN_CV.best_params_)\n",
    "\n",
    "# select our best model from the gridsearch\n",
    "best_params = KNN_CV.best_params_\n",
    "KNN_best = KNeighborsClassifier(n_neighbors=best_params['n_neighbors'])\n",
    "\n",
    "# fit it on our entire train data\n",
    "KNN_best.fit(X_amp_train, y_amp_train)\n",
    "\n",
    "# make our train predictions\n",
    "preds_amp_train_knn_best = KNN_best.predict(X_amp_train)\n",
    "\n",
    "# make our test predictions\n",
    "preds_amp_test_knn_best = KNN_best.predict(X_amp_test)\n",
    "\n",
    "train_cfm = confusion_matrix(y_amp_train, preds_amp_train_knn_best)\n",
    "test_cfm = confusion_matrix(y_amp_test, preds_amp_test_knn_best)\n",
    "\n",
    "print(f\"Train Accuracy: {accuracy_score(y_amp_train, preds_amp_train_knn_best)}\")\n",
    "print(f\"Per-Class Train Accuracy {train_cfm.diagonal() / train_cfm.sum(axis=1)}\")\n",
    "print(f\"Test Accuracy: {accuracy_score(y_amp_test, preds_amp_test_knn_best)}\")\n",
    "print(f\"Per-Class Test Accuracy {test_cfm.diagonal() / test_cfm.sum(axis=1)}\")\n"
   ]
  },
  {
   "cell_type": "code",
   "execution_count": null,
   "metadata": {},
   "outputs": [],
   "source": [
    "#### mel KNN Grid Search\n",
    "\n",
    "# these are the settings that we will tune: 'n_neighbors'\n",
    "param_grid = {'n_neighbors': np.arange(1, 28, 2),}\n",
    "\n",
    "# instantiate our template model\n",
    "KNN = KNeighborsClassifier()\n",
    "\n",
    "# instantiate our gridsearch estimator - cv=None defaults to the 5-fold cross validation\n",
    "KNN_CV = GridSearchCV(estimator=KNN, param_grid=param_grid, n_jobs=-1, cv=None, verbose=1)\n",
    "KNN_CV.fit(X_mel_train_flat_pca, y_mel_train)\n",
    "\n",
    "# print the best results\n",
    "print(KNN_CV.best_params_)\n",
    "\n",
    "# select our best model from the gridsearch\n",
    "best_params = KNN_CV.best_params_\n",
    "KNN_best = KNeighborsClassifier(n_neighbors=best_params['n_neighbors'])\n",
    "\n",
    "# fit it on our entire train data\n",
    "KNN_best.fit(X_mel_train_flat_pca, y_mel_train)\n",
    "\n",
    "# make our train predictions\n",
    "preds_mel_train_knn_best = KNN_best.predict(X_mel_train_flat_pca)\n",
    "\n",
    "# make our test predictions\n",
    "preds_mel_test_knn_best = KNN_best.predict(X_mel_test_flat_pca)\n",
    "\n",
    "train_cfm = confusion_matrix(y_mel_train, preds_mel_train_knn_best)\n",
    "test_cfm = confusion_matrix(y_mel_test, preds_mel_test_knn_best)\n",
    "\n",
    "print(f\"Train Accuracy: {accuracy_score(y_mel_train, preds_mel_train_knn_best)}\")\n",
    "print(f\"Per-Class Train Accuracy {train_cfm.diagonal() / train_cfm.sum(axis=1)}\")\n",
    "print(f\"Test Accuracy: {accuracy_score(y_mel_test, preds_mel_test_knn_best)}\")\n",
    "print(f\"Per-Class Test Accuracy {test_cfm.diagonal() / test_cfm.sum(axis=1)}\")"
   ]
  },
  {
   "cell_type": "markdown",
   "metadata": {
    "created_in_deepnote_cell": true,
    "deepnote_cell_type": "markdown",
    "tags": []
   },
   "source": [
    "<a style='text-decoration:none;line-height:16px;display:flex;color:#5B5B62;padding:10px;justify-content:end;' href='https://deepnote.com?utm_source=created-in-deepnote-cell&projectId=1b5e2bb3-566b-4513-989d-4151b916dec0' target=\"_blank\">\n",
    "<img alt='Created in deepnote.com' style='display:inline;max-height:16px;margin:0px;margin-right:7.5px;' src='data:image/svg+xml;base64,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' > </img>\n",
    "Created in <span style='font-weight:600;margin-left:4px;'>Deepnote</span></a>"
   ]
  }
 ],
 "metadata": {
  "deepnote": {},
  "deepnote_execution_queue": [],
  "deepnote_notebook_id": "07fa3d35-2421-400a-b955-20fdfb0a8ea4",
  "kernelspec": {
   "display_name": "Python 3",
   "language": "python",
   "name": "python3"
  },
  "language_info": {
   "codemirror_mode": {
    "name": "ipython",
    "version": 3
   },
   "file_extension": ".py",
   "mimetype": "text/x-python",
   "name": "python",
   "nbconvert_exporter": "python",
   "pygments_lexer": "ipython3",
   "version": "3.8.8"
  }
 },
 "nbformat": 4,
 "nbformat_minor": 4
}
